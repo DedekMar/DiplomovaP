{
  "nbformat": 4,
  "nbformat_minor": 0,
  "metadata": {
    "colab": {
      "name": "FirstCNN.ipynb",
      "provenance": [],
      "collapsed_sections": []
    },
    "kernelspec": {
      "name": "python3",
      "display_name": "Python 3"
    },
    "accelerator": "GPU"
  },
  "cells": [
    {
      "cell_type": "code",
      "metadata": {
        "id": "wEhWeelIdc4o",
        "colab_type": "code",
        "colab": {}
      },
      "source": [
        "from google.colab import drive"
      ],
      "execution_count": null,
      "outputs": []
    },
    {
      "cell_type": "code",
      "metadata": {
        "id": "aF1pE8D_d0ps",
        "colab_type": "code",
        "colab": {}
      },
      "source": [
        "drive.mount('/content/drive/')"
      ],
      "execution_count": null,
      "outputs": []
    },
    {
      "cell_type": "code",
      "metadata": {
        "id": "v4FUTkc8eGQ-",
        "colab_type": "code",
        "colab": {}
      },
      "source": [
        "!pip install -U keras"
      ],
      "execution_count": null,
      "outputs": []
    },
    {
      "cell_type": "code",
      "metadata": {
        "id": "fLQDk8qD7t8y",
        "colab_type": "code",
        "colab": {}
      },
      "source": [
        "!pip install -U -q PyDrive\n"
      ],
      "execution_count": null,
      "outputs": []
    },
    {
      "cell_type": "code",
      "metadata": {
        "id": "nMQFbHT0EmlC",
        "colab_type": "code",
        "colab": {}
      },
      "source": [
        "from pydrive.auth import GoogleAuth\n",
        "from pydrive.drive import GoogleDrive\n",
        "from google.colab import auth\n",
        "from oauth2client.client import GoogleCredentials\n",
        "\n",
        "auth.authenticate_user()\n",
        "gauth = GoogleAuth()\n",
        "gauth.credentials = GoogleCredentials.get_application_default()\n",
        "drive = GoogleDrive(gauth)"
      ],
      "execution_count": null,
      "outputs": []
    },
    {
      "cell_type": "code",
      "metadata": {
        "id": "hsGc-ralE7DM",
        "colab_type": "code",
        "colab": {}
      },
      "source": [
        "download = drive.CreateFile({'id' : \"19Tm5sZ-HSeCoRanmidNWo85LjL715rvE\"})\n",
        "download.GetContentFile(\"finalset.zip\")"
      ],
      "execution_count": null,
      "outputs": []
    },
    {
      "cell_type": "code",
      "metadata": {
        "id": "4W-u2NtJFNx1",
        "colab_type": "code",
        "colab": {}
      },
      "source": [
        "!unzip finalset.zip"
      ],
      "execution_count": null,
      "outputs": []
    },
    {
      "cell_type": "code",
      "metadata": {
        "id": "58z2J5r6Fr9R",
        "colab_type": "code",
        "colab": {}
      },
      "source": [
        "!ls"
      ],
      "execution_count": null,
      "outputs": []
    },
    {
      "cell_type": "code",
      "metadata": {
        "id": "d192yt0qeRYT",
        "colab_type": "code",
        "colab": {}
      },
      "source": [
        "import tensorflow as tf\n",
        "import cv2 ##??\n",
        "import numpy as np\n",
        "import pandas as pd\n",
        "\n",
        "from tensorflow.python.keras import layers\n",
        "from tensorflow.python.keras import models\n",
        "from tensorflow.python.keras import optimizers\n",
        "from tensorflow.python.keras.preprocessing.image import ImageDataGenerator\n",
        "\n",
        "from tensorflow.python.keras.applications.inception_resnet_v2 import InceptionResNetV2\n",
        "from sklearn.utils import class_weight\n",
        "\n",
        "\n",
        "from tensorflow.python.keras.callbacks import EarlyStopping\n",
        "from tensorflow.python.keras.applications.inception_resnet_v2 import preprocess_input\n",
        "from tensorflow.python.keras.callbacks import ModelCheckpoint\n",
        "from tensorflow.python.keras.callbacks import CSVLogger\n",
        "\n",
        "from tensorflow.keras.models import load_model\n",
        "\n",
        "\n"
      ],
      "execution_count": null,
      "outputs": []
    },
    {
      "cell_type": "code",
      "metadata": {
        "id": "N2f-8UbpwU__",
        "colab_type": "code",
        "colab": {}
      },
      "source": [
        "#funkce presouvajici vsechny kategorie z jedne slozky do jine (napr z val do train) v pripade, ze je to potreba\n",
        "def movefromto(srcdir, destdir):\n",
        "  import math\n",
        "  import shutil\n",
        "  import os\n",
        "  from os import listdir\n",
        "  from os.path import isfile, join\n",
        "  import random\n",
        "  categories = os.listdir(srcdir)\n",
        "  for category in categories:\n",
        "    srcpath = join(srcdir, category, \"\")\n",
        "    files = [f for f in listdir(srcpath) if isfile(join(srcpath, f))]\n",
        "    random.seed(55)\n",
        "    #totalLen = len(files)\n",
        "    #shuffledval = random.sample(files, math.floor(totalLen*perct))\n",
        "\n",
        "    for file in files:\n",
        "      shutil.move(srcpath + file, join(destdir, category, \"\"))"
      ],
      "execution_count": null,
      "outputs": []
    },
    {
      "cell_type": "code",
      "metadata": {
        "id": "KKYScJzPLLHU",
        "colab_type": "code",
        "colab": {}
      },
      "source": [
        "import math\n",
        "import shutil\n",
        "import os\n",
        "from os import listdir\n",
        "from os.path import isfile, join\n",
        "import random\n",
        "def split(valperct, testperct, traindir, valdir, testdir):\n",
        "  categories = os.listdir(traindir)\n",
        "  for category in categories:\n",
        "    srcpath = join(traindir, category, \"\")\n",
        "    files = [f for f in listdir(srcpath) if isfile(join(srcpath, f))]\n",
        "    random.seed(55)\n",
        "    totalLen = len(files)\n",
        "    shuffledval = random.sample(files, math.floor(totalLen*valperct))\n",
        "    #remove items used for val from the list, keep total len\n",
        "    #odstranit data pouzita pro val, ulozit si celkovou delku\n",
        "    new_list = [item for item in files if item not in shuffledval]\n",
        "    shuffledtrain =  random.sample(new_list, math.floor(totalLen*testperct))\n",
        "\n",
        "    for file in shuffledval:\n",
        "      shutil.move(srcpath + file, join(valdir, category, \"\"))\n",
        "    for file in shuffledtrain:\n",
        "      shutil.move(srcpath + file, join(testdir, category, \"\"))\n",
        "\n"
      ],
      "execution_count": null,
      "outputs": []
    },
    {
      "cell_type": "code",
      "metadata": {
        "id": "NMHSGMbcMteu",
        "colab_type": "code",
        "colab": {}
      },
      "source": [
        "#traindir = \"./WD/WD/train/\"\n",
        "#valdir = \"./WD/WD/val/\"\n",
        "#testdir = \"./WD/WD/test/\"\n",
        "#valsplit = 0.1\n",
        "#testsplit = 0.1\n",
        "#split(valsplit, testsplit, traindir, valdir, testdir)"
      ],
      "execution_count": null,
      "outputs": []
    },
    {
      "cell_type": "code",
      "metadata": {
        "id": "qOYbPx7Dd29Y",
        "colab_type": "code",
        "colab": {}
      },
      "source": [
        "os.getcwd()"
      ],
      "execution_count": null,
      "outputs": []
    },
    {
      "cell_type": "code",
      "metadata": {
        "id": "g9hQGWPie9Bv",
        "colab_type": "code",
        "colab": {}
      },
      "source": [
        "pretrained = InceptionResNetV2(weights = \"imagenet\", include_top =False, input_shape = (256,256,3))\n",
        "#from tensorflow.python.keras.applications.mobilenet_v2 import MobileNetV2\n",
        "#pretrained = MobileNetV2(weights = \"imagenet\", include_top =False, input_shape = (256,256,3))\n",
        "#pretrained.trainable = True\n"
      ],
      "execution_count": null,
      "outputs": []
    },
    {
      "cell_type": "code",
      "metadata": {
        "id": "azSWJYGuGL8l",
        "colab_type": "code",
        "colab": {}
      },
      "source": [
        "pretrained.trainable = False"
      ],
      "execution_count": null,
      "outputs": []
    },
    {
      "cell_type": "code",
      "metadata": {
        "id": "VkJGLQ20QxPX",
        "colab_type": "code",
        "colab": {}
      },
      "source": [
        "\n",
        "es = EarlyStopping(monitor='val_loss', mode='min', verbose=1, patience=30, min_delta = 0.0001)"
      ],
      "execution_count": null,
      "outputs": []
    },
    {
      "cell_type": "code",
      "metadata": {
        "id": "q6o4XgqROdeL",
        "colab_type": "code",
        "colab": {}
      },
      "source": [
        "filepath = \"/content/drive/My Drive/Python/Run-improvement-{epoch:02d}-{val_accuracy:.4f}.hdf5\"\n",
        "checkp = ModelCheckpoint(filepath, monitor = \"val_accuracy\", mode = \"max\", save_best_only=True)\n",
        "logging = CSVLogger('/content/drive/My Drive/Python/history.csv', append=False, separator=\";\")"
      ],
      "execution_count": null,
      "outputs": []
    },
    {
      "cell_type": "code",
      "metadata": {
        "id": "CTPQZT94cNqN",
        "colab_type": "code",
        "colab": {}
      },
      "source": [
        "model = tf.python.keras.Sequential()\n",
        "model.add(pretrained)\n",
        "model.add(layers.GlobalAveragePooling2D())\n",
        "model.add(layers.Dense(512, activation = \"relu\"))\n",
        "model.add(layers.Dropout(0.5))\n",
        "model.add(layers.Dense(256, activation = \"relu\"))\n",
        "model.add(layers.Dropout(0.5))\n",
        "model.add(layers.Dense(5, activation='sigmoid'))"
      ],
      "execution_count": null,
      "outputs": []
    },
    {
      "cell_type": "code",
      "metadata": {
        "id": "xvSuvSXGWX8v",
        "colab_type": "code",
        "colab": {}
      },
      "source": [
        "model.compile(optimizer =tf.keras.optimizers.Adam(learning_rate = 0.0001), loss = \"binary_crossentropy\", metrics = ['accuracy'])"
      ],
      "execution_count": null,
      "outputs": []
    },
    {
      "cell_type": "code",
      "metadata": {
        "id": "h9pnDt1KaI_d",
        "colab_type": "code",
        "colab": {}
      },
      "source": [
        "model.summary()"
      ],
      "execution_count": null,
      "outputs": []
    },
    {
      "cell_type": "code",
      "metadata": {
        "id": "FUxZE7mpV8l9",
        "colab_type": "code",
        "colab": {}
      },
      "source": [
        "datagen_augment = ImageDataGenerator(preprocessing_function = preprocess_input, horizontal_flip = True, \n",
        "                             brightness_range=[0.8, 1.2],\n",
        "                             zoom_range = [0.6, 1.0])"
      ],
      "execution_count": null,
      "outputs": []
    },
    {
      "cell_type": "code",
      "metadata": {
        "id": "hUTHMJnPtVee",
        "colab_type": "code",
        "colab": {}
      },
      "source": [
        "train_generator = datagen_augment.flow_from_directory(\n",
        "        directory = './finalset2/train',\n",
        "        target_size=(256, 256),\n",
        "        batch_size=32,\n",
        "        class_mode='categorical')"
      ],
      "execution_count": null,
      "outputs": []
    },
    {
      "cell_type": "code",
      "metadata": {
        "id": "bRYuDOByRAE3",
        "colab_type": "code",
        "colab": {}
      },
      "source": [
        "#pro val a test neni potreba pouzivat augmentace\n",
        "datagen = ImageDataGenerator(preprocessing_function = preprocess_input)"
      ],
      "execution_count": null,
      "outputs": []
    },
    {
      "cell_type": "code",
      "metadata": {
        "id": "3O1dWzPxWHK1",
        "colab_type": "code",
        "colab": {}
      },
      "source": [
        "\n",
        "val_generator = datagen.flow_from_directory(\n",
        "        directory = './finalset2/val',\n",
        "        target_size=(256, 256),\n",
        "        batch_size=32,\n",
        "        class_mode='categorical')\n",
        "test_generator = datagen.flow_from_directory(\n",
        "        directory = './finalset2/test',\n",
        "        target_size=(256, 256),\n",
        "        batch_size=32,\n",
        "        class_mode='categorical',\n",
        "        shuffle = False)"
      ],
      "execution_count": null,
      "outputs": []
    },
    {
      "cell_type": "code",
      "metadata": {
        "id": "W9KQa9q7wsK3",
        "colab_type": "code",
        "colab": {}
      },
      "source": [
        "#nastavit class indexy pro class vahy do dict\n",
        "class_weights_dict = {}\n",
        "class_weights = class_weight.compute_class_weight(\n",
        "               'balanced',\n",
        "                np.unique(train_generator.classes), \n",
        "                train_generator.classes)\n",
        "class_array = np.unique(train_generator.classes)\n",
        "for  K, V in zip(class_array, class_weights):\n",
        "  class_weights_dict[K] = V\n",
        "print(class_weights_dict)\n",
        "print(class_weights)"
      ],
      "execution_count": null,
      "outputs": []
    },
    {
      "cell_type": "code",
      "metadata": {
        "id": "yGIX-PqMk-W-",
        "colab_type": "code",
        "colab": {}
      },
      "source": [
        "#vytvoreni souboru dict.json\n",
        "class_map = val_generator.class_indices\n",
        "import json\n",
        "json = json.dumps(class_map)\n",
        "f = open(\"dict.json\",\"w\")\n",
        "f.write(json)\n",
        "f.close()"
      ],
      "execution_count": null,
      "outputs": []
    },
    {
      "cell_type": "code",
      "metadata": {
        "id": "9A9Iizz6ziDt",
        "colab_type": "code",
        "colab": {}
      },
      "source": [
        "class_map"
      ],
      "execution_count": null,
      "outputs": []
    },
    {
      "cell_type": "code",
      "metadata": {
        "id": "QNbp-5ZpKMqk",
        "colab_type": "code",
        "colab": {}
      },
      "source": [
        "#kontrola pripojení ke gpu\n",
        "tf.test.gpu_device_name()"
      ],
      "execution_count": null,
      "outputs": []
    },
    {
      "cell_type": "code",
      "metadata": {
        "id": "U3sRIom_WNaQ",
        "colab_type": "code",
        "colab": {}
      },
      "source": [
        "ntrain = train_generator.n\n",
        "nval = val_generator.n\n",
        "ntest = test_generator.n\n",
        "batch_size = 32 \n"
      ],
      "execution_count": null,
      "outputs": []
    },
    {
      "cell_type": "code",
      "metadata": {
        "id": "p-sfco_sWiny",
        "colab_type": "code",
        "colab": {}
      },
      "source": [
        "fit = model.fit(train_generator,\n",
        "                epochs = 100,\n",
        "                validation_data = val_generator,\n",
        "                callbacks = [es, checkp, logging],\n",
        "                class_weight = class_weights_dict,\n",
        "                shuffle = True,\n",
        "                batch_size = batch_size \n",
        "                )"
      ],
      "execution_count": null,
      "outputs": []
    },
    {
      "cell_type": "code",
      "metadata": {
        "id": "aqgCRr7qj7mC",
        "colab_type": "code",
        "colab": {}
      },
      "source": [
        "np.save('/content/drive/My Drive/Python/finalmodelhistory.npy',fit.history)"
      ],
      "execution_count": null,
      "outputs": []
    },
    {
      "cell_type": "code",
      "metadata": {
        "id": "L4xYe_AQ1uAQ",
        "colab_type": "code",
        "colab": {}
      },
      "source": [
        "model.save('/content/drive/My Drive/Python/TestRun-final-model.h5')"
      ],
      "execution_count": null,
      "outputs": []
    },
    {
      "cell_type": "code",
      "metadata": {
        "id": "ts2kiy2MEV8O",
        "colab_type": "code",
        "colab": {}
      },
      "source": [
        "import matplotlib.pyplot as plt\n",
        "plt.plot(fit.history[\"accuracy\"])\n",
        "plt.plot(fit.history[\"val_accuracy\"])\n",
        "\n",
        "\n",
        "plt.legend([\"train\", \"val\"])\n",
        "plt.show()"
      ],
      "execution_count": null,
      "outputs": []
    },
    {
      "cell_type": "code",
      "metadata": {
        "id": "RkqAy9zG3gXg",
        "colab_type": "code",
        "colab": {}
      },
      "source": [
        "plt.plot(fit.history[\"loss\"])\n",
        "plt.plot(fit.history[\"val_loss\"])\n",
        "\n",
        "\n",
        "plt.legend([\"train\", \"val\"])\n",
        "plt.show()"
      ],
      "execution_count": null,
      "outputs": []
    },
    {
      "cell_type": "code",
      "metadata": {
        "id": "a2_Abx2e-Xw0",
        "colab_type": "code",
        "colab": {}
      },
      "source": [
        "plt.plot(fit.history[\"loss\"])\n",
        "plt.plot(fit.history[\"val_loss\"])\n",
        "plt.plot(fit.history[\"accuracy\"])\n",
        "plt.plot(fit.history[\"val_accuracy\"])\n",
        "\n",
        "plt.legend([\"loss\", \"val_loss\"])\n",
        "plt.show()"
      ],
      "execution_count": null,
      "outputs": []
    },
    {
      "cell_type": "code",
      "metadata": {
        "id": "SWQzIo_O_zv8",
        "colab_type": "code",
        "colab": {}
      },
      "source": [
        "from tensorflow.python.keras.preprocessing import image\n",
        "img = image.load_img('./WD/WD/test/bedroom/00000003.jpg', target_size=(256, 256))\n",
        "\n",
        "imaget = image.img_to_array(img)\n",
        "imaget = np.expand_dims(imaget, axis=0) \n",
        "img = datagen.standardize(imaget) \n",
        "preds = model.predict(imaget)\n",
        "preds"
      ],
      "execution_count": null,
      "outputs": []
    },
    {
      "cell_type": "code",
      "metadata": {
        "id": "5DMvprnoKCV3",
        "colab_type": "code",
        "colab": {}
      },
      "source": [
        "preds = model.predict(test_generator, batch_size=32, steps = ntest // batch_size, verbose = 1)"
      ],
      "execution_count": null,
      "outputs": []
    },
    {
      "cell_type": "code",
      "metadata": {
        "id": "-Y60dW7YCgS2",
        "colab_type": "code",
        "colab": {}
      },
      "source": [
        "datagen = ImageDataGenerator(preprocessing_function = preprocess_input)\n",
        "test_generator = datagen.flow_from_directory(\n",
        "        directory = './finalset2/test',\n",
        "        target_size=(256, 256),\n",
        "        batch_size=32,\n",
        "        class_mode='categorical',\n",
        "        shuffle = False)"
      ],
      "execution_count": null,
      "outputs": []
    },
    {
      "cell_type": "code",
      "metadata": {
        "id": "7ncfYxqUK9nb",
        "colab_type": "code",
        "colab": {}
      },
      "source": [
        "#vyhodnoceni jednoho modelu\n",
        "model.evaluate(test_generator, batch_size=32, steps = ntest // batch_size, verbose = 1 )"
      ],
      "execution_count": null,
      "outputs": []
    },
    {
      "cell_type": "code",
      "metadata": {
        "id": "n-qfUGKRgJRr",
        "colab_type": "code",
        "colab": {}
      },
      "source": [
        "import csv\n",
        "from tensorflow.keras.models import load_model\n",
        "import os\n",
        "import random\n",
        "random.seed(55)\n",
        "#testovaci vsech modelu podle pojmenovani, vystup do csv souboru\n",
        "modelsTesting = []\n",
        "for file in os.listdir('/content/drive/My Drive/Python/'):\n",
        "  if file.startswith(\"Run3\"):\n",
        "    modelsTesting.append(file)\n",
        "modelsTesting\n",
        "\n",
        "#\n",
        "for modelName in modelsTesting:\n",
        "  model_for_testing = load_model(\"/content/drive/My Drive/Python/\" + modelName)\n",
        "  print(\"Currently testing: \" + modelName)\n",
        "  test = model_for_testing.evaluate(test_generator, batch_size=32, verbose = 1 )\n",
        "  test.insert(0, modelName)\n",
        "\n",
        "  with open(\"/content/drive/My Drive/Python/testingResults.csv\",\"a\", newline=\"\") as fd:\n",
        "      wr = csv.writer(fd, dialect=\"excel\")\n",
        "      wr.writerow(test)\n"
      ],
      "execution_count": null,
      "outputs": []
    },
    {
      "cell_type": "code",
      "metadata": {
        "id": "mAQFt4i5gXXR",
        "colab_type": "code",
        "colab": {}
      },
      "source": [
        "#predikce pro konkretni model\n",
        "from tensorflow.keras.models import load_model\n",
        "model = load_model(\"/content/drive/My Drive/Python/model.hdf5\")"
      ],
      "execution_count": null,
      "outputs": []
    },
    {
      "cell_type": "code",
      "metadata": {
        "id": "qvWWl-VO65UI",
        "colab_type": "code",
        "colab": {}
      },
      "source": [
        "predictions = model.predict(test_generator, batch_size= 32, verbose = 1)"
      ],
      "execution_count": null,
      "outputs": []
    },
    {
      "cell_type": "code",
      "metadata": {
        "id": "iDDTFTke7rw2",
        "colab_type": "code",
        "colab": {}
      },
      "source": [
        "len(predictions)"
      ],
      "execution_count": null,
      "outputs": []
    },
    {
      "cell_type": "code",
      "metadata": {
        "id": "SYtZtjxA8Ia4",
        "colab_type": "code",
        "colab": {}
      },
      "source": [
        "predictedClasses = np.argmax(predictions, axis=1)"
      ],
      "execution_count": null,
      "outputs": []
    },
    {
      "cell_type": "code",
      "metadata": {
        "id": "RnFIqcH18QFm",
        "colab_type": "code",
        "colab": {}
      },
      "source": [
        "len(predictedClasses)"
      ],
      "execution_count": null,
      "outputs": []
    },
    {
      "cell_type": "code",
      "metadata": {
        "id": "pRsd67tF8VPq",
        "colab_type": "code",
        "colab": {}
      },
      "source": [
        "from sklearn.metrics import confusion_matrix\n",
        "import matplotlib.pyplot as plt\n",
        "cm = confusion_matrix(test_generator.classes, predictedClasses, normalize = \"true\")\n",
        "plt.imshow(cm, cmap=plt.cm.Blues)"
      ],
      "execution_count": null,
      "outputs": []
    },
    {
      "cell_type": "code",
      "metadata": {
        "id": "4tojekoO9VGH",
        "colab_type": "code",
        "colab": {}
      },
      "source": [
        "#plt.imshow(cm, cmap=plt.cm.Blues)\n",
        "from sklearn.metrics import confusion_matrix\n",
        "import matplotlib.pyplot as plt\n",
        "def plot_conf_matrix(Y_true, Y_pred, normalize):\n",
        "  labels = list(test_generator.class_indices.keys())\n",
        "  if(normalize == True):\n",
        "    cm = confusion_matrix(test_generator.classes, predictedClasses, normalize = \"true\")\n",
        "  else: \n",
        "    cm = confusion_matrix(test_generator.classes, predictedClasses)\n",
        "  fig = plt.figure()\n",
        "  ax = fig.add_subplot(111)\n",
        "  cax = ax.matshow(cm, cmap=plt.cm.Blues)\n",
        "  plt.xlabel(\"Předikovaná třída\")\n",
        "  plt.ylabel(\"Skutečná třída\")\n",
        "  #plt.xticks([], [])\n",
        "  #plt.yticks([], [])\n",
        "  ax.set_xticklabels([''] + labels, rotation = 45)\n",
        "  ax.set_yticklabels([''] + labels) \n",
        "  #plt.xticks(np.arange(len(labels)), labels)\n",
        "  ax.tick_params(axis=\"x\", bottom=True, labelbottom= True, top = False, labeltop = False)\n",
        "  threshhold = cm.max() / 2\n",
        "  if (normalize == True):\n",
        "    numberFormat = \".2f\"\n",
        "    plt.title('Normalizovaná matice záměn')    \n",
        "  else: \n",
        "    numberFormat = \"d\"\n",
        "    plt.title('Matice záměn')    \n",
        "  for i in range(cm.shape[0]):\n",
        "    for j in range(cm.shape[1]):\n",
        "      ax.text(j, i, format(cm[i, j], numberFormat), ha=\"center\", va=\"center\", color=\"white\" if cm[i, j] > threshhold else \"black\")\n",
        "  fig.colorbar(cax)\n",
        "  #plt.colorbar()\n",
        "  plt.show()"
      ],
      "execution_count": null,
      "outputs": []
    },
    {
      "cell_type": "code",
      "metadata": {
        "id": "f35FQK5CqNOB",
        "colab_type": "code",
        "colab": {}
      },
      "source": [
        "plot_conf_matrix(test_generator.classes, predictedClasses, normalize = True)"
      ],
      "execution_count": null,
      "outputs": []
    },
    {
      "cell_type": "code",
      "metadata": {
        "id": "niwXPIpWtnj7",
        "colab_type": "code",
        "colab": {}
      },
      "source": [
        "plot_conf_matrix(test_generator.classes, predictedClasses, normalize = False)"
      ],
      "execution_count": null,
      "outputs": []
    },
    {
      "cell_type": "code",
      "metadata": {
        "id": "CjQdU-kH-C9B",
        "colab_type": "code",
        "colab": {}
      },
      "source": [
        "labels = list(test_generator.class_indices.keys())"
      ],
      "execution_count": null,
      "outputs": []
    },
    {
      "cell_type": "code",
      "metadata": {
        "id": "xAG-9HFkAcj0",
        "colab_type": "code",
        "colab": {}
      },
      "source": [
        "from sklearn.metrics import classification_report\n",
        "print(classification_report(test_generator.classes, predictedClasses))"
      ],
      "execution_count": null,
      "outputs": []
    },
    {
      "cell_type": "code",
      "metadata": {
        "id": "z_OMs3ECBghU",
        "colab_type": "code",
        "colab": {}
      },
      "source": [
        "from sklearn.metrics import accuracy_score, f1_score, precision_score, recall_score\n",
        "print( \"Acc\" + str(accuracy_score(test_generator.classes, predictedClasses)))\n",
        "print( \"F1\" + str(f1_score(test_generator.classes, predictedClasses, average='weighted')))\n",
        "print( \"Precision\" + str(precision_score(test_generator.classes, predictedClasses, average='weighted')))\n",
        "print( \" Recall\" + str(recall_score(test_generator.classes, predictedClasses, average='weighted')))"
      ],
      "execution_count": null,
      "outputs": []
    },
    {
      "cell_type": "code",
      "metadata": {
        "id": "yGkxZnFR74o-",
        "colab_type": "code",
        "colab": {}
      },
      "source": [
        "totalClassCounts = {}\n",
        "for label in labels:\n",
        "  totalClassCounts[label] = 0\n",
        "for generator in [train_generator, val_generator, test_generator]:\n",
        "  for key in generator.class_indices.keys():\n",
        "   totalClassCounts[key] +=  generator.classes.tolist().count(generator.class_indices[key]) "
      ],
      "execution_count": null,
      "outputs": []
    },
    {
      "cell_type": "code",
      "metadata": {
        "id": "vATo16ZE8Vw4",
        "colab_type": "code",
        "colab": {}
      },
      "source": [
        "totalClassCounts"
      ],
      "execution_count": null,
      "outputs": []
    },
    {
      "cell_type": "code",
      "metadata": {
        "id": "IW8dubLS8_Y8",
        "colab_type": "code",
        "colab": {}
      },
      "source": [
        "sum(totalClassCounts.values())"
      ],
      "execution_count": null,
      "outputs": []
    },
    {
      "cell_type": "code",
      "metadata": {
        "id": "aBuGEBQq-swK",
        "colab_type": "code",
        "colab": {}
      },
      "source": [
        "plt.figure(figsize=(10,5))\n",
        "plot = plt.bar(totalClassCounts.keys(), totalClassCounts.values())\n",
        "for bar in plot:\n",
        "    yval = bar.get_height()\n",
        "    plt.text(bar.get_x() + 0.3, yval + 65, yval)\n",
        "\n",
        "plt.show()"
      ],
      "execution_count": null,
      "outputs": []
    }
  ]
}